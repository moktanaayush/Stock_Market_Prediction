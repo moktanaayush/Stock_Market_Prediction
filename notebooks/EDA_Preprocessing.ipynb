{
 "cells": [
  {
   "cell_type": "code",
   "execution_count": 1,
   "id": "c4ed21ad",
   "metadata": {},
   "outputs": [],
   "source": [
    "import pandas as pd\n",
    "import matplotlib.pyplot as plt\n",
    "import seaborn as sns"
   ]
  },
  {
   "cell_type": "code",
   "execution_count": 2,
   "id": "6017002d",
   "metadata": {},
   "outputs": [],
   "source": [
    "df_1 = pd.read_csv(\"../data/NABIL_2000-01-01_2021-12-31.csv\")\n",
    "df_2 = pd.read_csv(\"../data/nepsealpha_export_price_NABIL_2022-01-01_2024-11-21.csv\")\n",
    "# df_3 = pd.read_csv(\"Nabil Bank/Stock Trading of Nabil Bank Limited.csv\")"
   ]
  },
  {
   "cell_type": "code",
   "execution_count": 3,
   "id": "aaaf76a8",
   "metadata": {},
   "outputs": [
    {
     "data": {
      "text/html": [
       "<div>\n",
       "<style scoped>\n",
       "    .dataframe tbody tr th:only-of-type {\n",
       "        vertical-align: middle;\n",
       "    }\n",
       "\n",
       "    .dataframe tbody tr th {\n",
       "        vertical-align: top;\n",
       "    }\n",
       "\n",
       "    .dataframe thead th {\n",
       "        text-align: right;\n",
       "    }\n",
       "</style>\n",
       "<table border=\"1\" class=\"dataframe\">\n",
       "  <thead>\n",
       "    <tr style=\"text-align: right;\">\n",
       "      <th></th>\n",
       "      <th>S.N.</th>\n",
       "      <th>Date</th>\n",
       "      <th>Total Transactions</th>\n",
       "      <th>Total Traded Shares</th>\n",
       "      <th>Total Traded Amount</th>\n",
       "      <th>Max. Price</th>\n",
       "      <th>Min. Price</th>\n",
       "      <th>Close Price</th>\n",
       "    </tr>\n",
       "  </thead>\n",
       "  <tbody>\n",
       "    <tr>\n",
       "      <th>0</th>\n",
       "      <td>1</td>\n",
       "      <td>2021-12-29</td>\n",
       "      <td>3783</td>\n",
       "      <td>326139.0</td>\n",
       "      <td>477182107.7</td>\n",
       "      <td>1500.0</td>\n",
       "      <td>1450.0</td>\n",
       "      <td>1450.0</td>\n",
       "    </tr>\n",
       "    <tr>\n",
       "      <th>1</th>\n",
       "      <td>2</td>\n",
       "      <td>2021-12-28</td>\n",
       "      <td>1841</td>\n",
       "      <td>170269.0</td>\n",
       "      <td>253737724.2</td>\n",
       "      <td>1500.0</td>\n",
       "      <td>1479.2</td>\n",
       "      <td>1480.0</td>\n",
       "    </tr>\n",
       "    <tr>\n",
       "      <th>2</th>\n",
       "      <td>3</td>\n",
       "      <td>2021-12-27</td>\n",
       "      <td>2100</td>\n",
       "      <td>201767.0</td>\n",
       "      <td>306099202.3</td>\n",
       "      <td>1550.0</td>\n",
       "      <td>1485.0</td>\n",
       "      <td>1499.0</td>\n",
       "    </tr>\n",
       "    <tr>\n",
       "      <th>3</th>\n",
       "      <td>4</td>\n",
       "      <td>2021-12-26</td>\n",
       "      <td>2197</td>\n",
       "      <td>209837.0</td>\n",
       "      <td>320749736.3</td>\n",
       "      <td>1570.8</td>\n",
       "      <td>1506.0</td>\n",
       "      <td>1524.0</td>\n",
       "    </tr>\n",
       "    <tr>\n",
       "      <th>4</th>\n",
       "      <td>5</td>\n",
       "      <td>2021-12-23</td>\n",
       "      <td>832</td>\n",
       "      <td>51892.0</td>\n",
       "      <td>77043373.0</td>\n",
       "      <td>1499.0</td>\n",
       "      <td>1471.0</td>\n",
       "      <td>1485.0</td>\n",
       "    </tr>\n",
       "  </tbody>\n",
       "</table>\n",
       "</div>"
      ],
      "text/plain": [
       "   S.N.        Date  Total Transactions  Total Traded Shares  \\\n",
       "0     1  2021-12-29                3783             326139.0   \n",
       "1     2  2021-12-28                1841             170269.0   \n",
       "2     3  2021-12-27                2100             201767.0   \n",
       "3     4  2021-12-26                2197             209837.0   \n",
       "4     5  2021-12-23                 832              51892.0   \n",
       "\n",
       "   Total Traded Amount  Max. Price  Min. Price  Close Price  \n",
       "0          477182107.7      1500.0      1450.0       1450.0  \n",
       "1          253737724.2      1500.0      1479.2       1480.0  \n",
       "2          306099202.3      1550.0      1485.0       1499.0  \n",
       "3          320749736.3      1570.8      1506.0       1524.0  \n",
       "4           77043373.0      1499.0      1471.0       1485.0  "
      ]
     },
     "execution_count": 3,
     "metadata": {},
     "output_type": "execute_result"
    }
   ],
   "source": [
    "df_1.head()"
   ]
  },
  {
   "cell_type": "code",
   "execution_count": 4,
   "id": "a3756a15",
   "metadata": {},
   "outputs": [],
   "source": [
    "df1= df_1.rename(columns={\n",
    "    'Total Traded Amount' : 'total_transaction', \n",
    "    'Max. Price': 'high', \n",
    "    'Min. Price': 'low',\n",
    "    'Close Price': 'close', \n",
    "    'Date': 'date'\n",
    "})\n"
   ]
  },
  {
   "cell_type": "code",
   "execution_count": 5,
   "id": "766f8cc6",
   "metadata": {},
   "outputs": [],
   "source": [
    "df1['date']= pd.to_datetime(df1['date'])"
   ]
  },
  {
   "cell_type": "code",
   "execution_count": 6,
   "id": "b9b2fdd7",
   "metadata": {},
   "outputs": [
    {
     "name": "stdout",
     "output_type": "stream",
     "text": [
      "Max:  2021-12-29 00:00:00\n",
      "Min:  2010-04-15 00:00:00\n"
     ]
    }
   ],
   "source": [
    "print(\"Max: \", max(df1['date']))\n",
    "print(\"Min: \", min(df1['date']))"
   ]
  },
  {
   "cell_type": "code",
   "execution_count": 7,
   "id": "fb3e8af5",
   "metadata": {},
   "outputs": [
    {
     "data": {
      "text/html": [
       "<div>\n",
       "<style scoped>\n",
       "    .dataframe tbody tr th:only-of-type {\n",
       "        vertical-align: middle;\n",
       "    }\n",
       "\n",
       "    .dataframe tbody tr th {\n",
       "        vertical-align: top;\n",
       "    }\n",
       "\n",
       "    .dataframe thead th {\n",
       "        text-align: right;\n",
       "    }\n",
       "</style>\n",
       "<table border=\"1\" class=\"dataframe\">\n",
       "  <thead>\n",
       "    <tr style=\"text-align: right;\">\n",
       "      <th></th>\n",
       "      <th>Symbol</th>\n",
       "      <th>Date</th>\n",
       "      <th>Open</th>\n",
       "      <th>High</th>\n",
       "      <th>Low</th>\n",
       "      <th>Close</th>\n",
       "      <th>Percent Change</th>\n",
       "      <th>Volume</th>\n",
       "    </tr>\n",
       "  </thead>\n",
       "  <tbody>\n",
       "    <tr>\n",
       "      <th>0</th>\n",
       "      <td>NABIL</td>\n",
       "      <td>2024-11-21</td>\n",
       "      <td>565.0</td>\n",
       "      <td>565.0</td>\n",
       "      <td>552.2</td>\n",
       "      <td>553.7</td>\n",
       "      <td>-0.59 %</td>\n",
       "      <td>56,753.00</td>\n",
       "    </tr>\n",
       "    <tr>\n",
       "      <th>1</th>\n",
       "      <td>NABIL</td>\n",
       "      <td>2024-11-20</td>\n",
       "      <td>560.0</td>\n",
       "      <td>562.0</td>\n",
       "      <td>552.0</td>\n",
       "      <td>557.0</td>\n",
       "      <td>-0.50 %</td>\n",
       "      <td>61,578.00</td>\n",
       "    </tr>\n",
       "    <tr>\n",
       "      <th>2</th>\n",
       "      <td>NABIL</td>\n",
       "      <td>2024-11-19</td>\n",
       "      <td>560.0</td>\n",
       "      <td>568.0</td>\n",
       "      <td>557.0</td>\n",
       "      <td>559.8</td>\n",
       "      <td>-0.41 %</td>\n",
       "      <td>84,892.00</td>\n",
       "    </tr>\n",
       "    <tr>\n",
       "      <th>3</th>\n",
       "      <td>NABIL</td>\n",
       "      <td>2024-11-17</td>\n",
       "      <td>562.0</td>\n",
       "      <td>570.0</td>\n",
       "      <td>562.0</td>\n",
       "      <td>562.1</td>\n",
       "      <td>0.02 %</td>\n",
       "      <td>62,749.00</td>\n",
       "    </tr>\n",
       "    <tr>\n",
       "      <th>4</th>\n",
       "      <td>NABIL</td>\n",
       "      <td>2024-11-14</td>\n",
       "      <td>566.0</td>\n",
       "      <td>566.0</td>\n",
       "      <td>557.0</td>\n",
       "      <td>562.0</td>\n",
       "      <td>0.18 %</td>\n",
       "      <td>59,666.00</td>\n",
       "    </tr>\n",
       "  </tbody>\n",
       "</table>\n",
       "</div>"
      ],
      "text/plain": [
       "  Symbol        Date   Open   High    Low  Close Percent Change     Volume\n",
       "0  NABIL  2024-11-21  565.0  565.0  552.2  553.7        -0.59 %  56,753.00\n",
       "1  NABIL  2024-11-20  560.0  562.0  552.0  557.0        -0.50 %  61,578.00\n",
       "2  NABIL  2024-11-19  560.0  568.0  557.0  559.8        -0.41 %  84,892.00\n",
       "3  NABIL  2024-11-17  562.0  570.0  562.0  562.1         0.02 %  62,749.00\n",
       "4  NABIL  2024-11-14  566.0  566.0  557.0  562.0         0.18 %  59,666.00"
      ]
     },
     "execution_count": 7,
     "metadata": {},
     "output_type": "execute_result"
    }
   ],
   "source": [
    "df_2.head()"
   ]
  },
  {
   "cell_type": "code",
   "execution_count": 8,
   "id": "509f977a",
   "metadata": {},
   "outputs": [],
   "source": [
    "df2=df_2.rename(columns={\n",
    "    'Date':'date', \n",
    "    'Open': 'open', \n",
    "    'High': 'high', \n",
    "    'Low': 'low',\n",
    "    'Close': 'close',\n",
    "    'Volume': 'total_transaction'\n",
    "})"
   ]
  },
  {
   "cell_type": "code",
   "execution_count": 9,
   "id": "d6594400",
   "metadata": {},
   "outputs": [],
   "source": [
    "df2['date']= pd.to_datetime(df2['date'])"
   ]
  },
  {
   "cell_type": "code",
   "execution_count": 10,
   "id": "e7c5ecd8",
   "metadata": {},
   "outputs": [
    {
     "name": "stdout",
     "output_type": "stream",
     "text": [
      "Max:  2024-11-21 00:00:00\n",
      "Min:  2022-01-02 00:00:00\n"
     ]
    }
   ],
   "source": [
    "print(\"Max: \", max(df2['date']))\n",
    "print(\"Min: \", min(df2['date']))"
   ]
  },
  {
   "cell_type": "code",
   "execution_count": 11,
   "id": "bfe9f7d6",
   "metadata": {},
   "outputs": [
    {
     "data": {
      "text/html": [
       "<div>\n",
       "<style scoped>\n",
       "    .dataframe tbody tr th:only-of-type {\n",
       "        vertical-align: middle;\n",
       "    }\n",
       "\n",
       "    .dataframe tbody tr th {\n",
       "        vertical-align: top;\n",
       "    }\n",
       "\n",
       "    .dataframe thead th {\n",
       "        text-align: right;\n",
       "    }\n",
       "</style>\n",
       "<table border=\"1\" class=\"dataframe\">\n",
       "  <thead>\n",
       "    <tr style=\"text-align: right;\">\n",
       "      <th></th>\n",
       "      <th>Symbol</th>\n",
       "      <th>date</th>\n",
       "      <th>open</th>\n",
       "      <th>high</th>\n",
       "      <th>low</th>\n",
       "      <th>close</th>\n",
       "      <th>Percent Change</th>\n",
       "      <th>total_transaction</th>\n",
       "    </tr>\n",
       "  </thead>\n",
       "  <tbody>\n",
       "    <tr>\n",
       "      <th>675</th>\n",
       "      <td>NABIL</td>\n",
       "      <td>2022-01-02</td>\n",
       "      <td>1107.0</td>\n",
       "      <td>1151.5</td>\n",
       "      <td>1086.0</td>\n",
       "      <td>1144.0</td>\n",
       "      <td>5.41 %</td>\n",
       "      <td>263,845.00</td>\n",
       "    </tr>\n",
       "  </tbody>\n",
       "</table>\n",
       "</div>"
      ],
      "text/plain": [
       "    Symbol       date    open    high     low   close Percent Change  \\\n",
       "675  NABIL 2022-01-02  1107.0  1151.5  1086.0  1144.0         5.41 %   \n",
       "\n",
       "    total_transaction  \n",
       "675        263,845.00  "
      ]
     },
     "execution_count": 11,
     "metadata": {},
     "output_type": "execute_result"
    }
   ],
   "source": [
    "df2[df2['date']=='2022-1-2']"
   ]
  },
  {
   "cell_type": "code",
   "execution_count": 12,
   "id": "71170b93",
   "metadata": {},
   "outputs": [
    {
     "data": {
      "text/html": [
       "<div>\n",
       "<style scoped>\n",
       "    .dataframe tbody tr th:only-of-type {\n",
       "        vertical-align: middle;\n",
       "    }\n",
       "\n",
       "    .dataframe tbody tr th {\n",
       "        vertical-align: top;\n",
       "    }\n",
       "\n",
       "    .dataframe thead th {\n",
       "        text-align: right;\n",
       "    }\n",
       "</style>\n",
       "<table border=\"1\" class=\"dataframe\">\n",
       "  <thead>\n",
       "    <tr style=\"text-align: right;\">\n",
       "      <th></th>\n",
       "      <th>date</th>\n",
       "      <th>high</th>\n",
       "      <th>low</th>\n",
       "      <th>close</th>\n",
       "      <th>total_transaction</th>\n",
       "    </tr>\n",
       "  </thead>\n",
       "  <tbody>\n",
       "    <tr>\n",
       "      <th>2647</th>\n",
       "      <td>2010-04-15</td>\n",
       "      <td>2040.0</td>\n",
       "      <td>2000.0</td>\n",
       "      <td>2000.0</td>\n",
       "      <td>6935470.0</td>\n",
       "    </tr>\n",
       "    <tr>\n",
       "      <th>2648</th>\n",
       "      <td>2010-04-15</td>\n",
       "      <td>2040.0</td>\n",
       "      <td>2000.0</td>\n",
       "      <td>2000.0</td>\n",
       "      <td>6935470.0</td>\n",
       "    </tr>\n",
       "    <tr>\n",
       "      <th>2646</th>\n",
       "      <td>2010-04-15</td>\n",
       "      <td>2040.0</td>\n",
       "      <td>2000.0</td>\n",
       "      <td>2000.0</td>\n",
       "      <td>6935470.0</td>\n",
       "    </tr>\n",
       "    <tr>\n",
       "      <th>2645</th>\n",
       "      <td>2010-04-19</td>\n",
       "      <td>2039.0</td>\n",
       "      <td>2000.0</td>\n",
       "      <td>2001.0</td>\n",
       "      <td>3549542.0</td>\n",
       "    </tr>\n",
       "    <tr>\n",
       "      <th>2644</th>\n",
       "      <td>2010-04-20</td>\n",
       "      <td>1975.0</td>\n",
       "      <td>1945.0</td>\n",
       "      <td>1945.0</td>\n",
       "      <td>2369304.0</td>\n",
       "    </tr>\n",
       "    <tr>\n",
       "      <th>...</th>\n",
       "      <td>...</td>\n",
       "      <td>...</td>\n",
       "      <td>...</td>\n",
       "      <td>...</td>\n",
       "      <td>...</td>\n",
       "    </tr>\n",
       "    <tr>\n",
       "      <th>2653</th>\n",
       "      <td>2024-11-14</td>\n",
       "      <td>566.0</td>\n",
       "      <td>557.0</td>\n",
       "      <td>562.0</td>\n",
       "      <td>59,666.00</td>\n",
       "    </tr>\n",
       "    <tr>\n",
       "      <th>2652</th>\n",
       "      <td>2024-11-17</td>\n",
       "      <td>570.0</td>\n",
       "      <td>562.0</td>\n",
       "      <td>562.1</td>\n",
       "      <td>62,749.00</td>\n",
       "    </tr>\n",
       "    <tr>\n",
       "      <th>2651</th>\n",
       "      <td>2024-11-19</td>\n",
       "      <td>568.0</td>\n",
       "      <td>557.0</td>\n",
       "      <td>559.8</td>\n",
       "      <td>84,892.00</td>\n",
       "    </tr>\n",
       "    <tr>\n",
       "      <th>2650</th>\n",
       "      <td>2024-11-20</td>\n",
       "      <td>562.0</td>\n",
       "      <td>552.0</td>\n",
       "      <td>557.0</td>\n",
       "      <td>61,578.00</td>\n",
       "    </tr>\n",
       "    <tr>\n",
       "      <th>2649</th>\n",
       "      <td>2024-11-21</td>\n",
       "      <td>565.0</td>\n",
       "      <td>552.2</td>\n",
       "      <td>553.7</td>\n",
       "      <td>56,753.00</td>\n",
       "    </tr>\n",
       "  </tbody>\n",
       "</table>\n",
       "<p>3325 rows × 5 columns</p>\n",
       "</div>"
      ],
      "text/plain": [
       "           date    high     low   close total_transaction\n",
       "2647 2010-04-15  2040.0  2000.0  2000.0         6935470.0\n",
       "2648 2010-04-15  2040.0  2000.0  2000.0         6935470.0\n",
       "2646 2010-04-15  2040.0  2000.0  2000.0         6935470.0\n",
       "2645 2010-04-19  2039.0  2000.0  2001.0         3549542.0\n",
       "2644 2010-04-20  1975.0  1945.0  1945.0         2369304.0\n",
       "...         ...     ...     ...     ...               ...\n",
       "2653 2024-11-14   566.0   557.0   562.0         59,666.00\n",
       "2652 2024-11-17   570.0   562.0   562.1         62,749.00\n",
       "2651 2024-11-19   568.0   557.0   559.8         84,892.00\n",
       "2650 2024-11-20   562.0   552.0   557.0         61,578.00\n",
       "2649 2024-11-21   565.0   552.2   553.7         56,753.00\n",
       "\n",
       "[3325 rows x 5 columns]"
      ]
     },
     "execution_count": 12,
     "metadata": {},
     "output_type": "execute_result"
    }
   ],
   "source": [
    "merged_df = pd.concat([df1, df2], ignore_index=True)\n",
    "filtered_df= merged_df[['date', 'high', 'low', 'close', 'total_transaction']].sort_values(by='date')\n",
    "filtered_df"
   ]
  },
  {
   "cell_type": "code",
   "execution_count": 13,
   "id": "d714739f",
   "metadata": {},
   "outputs": [],
   "source": [
    "filtered_df.to_csv(\"../data/Nabil_Stock_Trading.csv\", index=False)"
   ]
  },
  {
   "cell_type": "code",
   "execution_count": 14,
   "id": "8e94c309",
   "metadata": {},
   "outputs": [
    {
     "data": {
      "text/html": [
       "<div>\n",
       "<style scoped>\n",
       "    .dataframe tbody tr th:only-of-type {\n",
       "        vertical-align: middle;\n",
       "    }\n",
       "\n",
       "    .dataframe tbody tr th {\n",
       "        vertical-align: top;\n",
       "    }\n",
       "\n",
       "    .dataframe thead th {\n",
       "        text-align: right;\n",
       "    }\n",
       "</style>\n",
       "<table border=\"1\" class=\"dataframe\">\n",
       "  <thead>\n",
       "    <tr style=\"text-align: right;\">\n",
       "      <th></th>\n",
       "      <th>date</th>\n",
       "      <th>high</th>\n",
       "      <th>low</th>\n",
       "      <th>close</th>\n",
       "      <th>total_transaction</th>\n",
       "    </tr>\n",
       "  </thead>\n",
       "  <tbody>\n",
       "    <tr>\n",
       "      <th>3324</th>\n",
       "      <td>2022-01-02</td>\n",
       "      <td>1151.5</td>\n",
       "      <td>1086.0</td>\n",
       "      <td>1144.0</td>\n",
       "      <td>263,845.00</td>\n",
       "    </tr>\n",
       "  </tbody>\n",
       "</table>\n",
       "</div>"
      ],
      "text/plain": [
       "           date    high     low   close total_transaction\n",
       "3324 2022-01-02  1151.5  1086.0  1144.0        263,845.00"
      ]
     },
     "execution_count": 14,
     "metadata": {},
     "output_type": "execute_result"
    }
   ],
   "source": [
    "filtered_df[filtered_df['date']=='2022-1-2']"
   ]
  },
  {
   "cell_type": "markdown",
   "id": "189781d7",
   "metadata": {},
   "source": [
    "## Understanding data "
   ]
  },
  {
   "cell_type": "code",
   "execution_count": 15,
   "id": "4baed7b0",
   "metadata": {},
   "outputs": [
    {
     "data": {
      "text/html": [
       "<div>\n",
       "<style scoped>\n",
       "    .dataframe tbody tr th:only-of-type {\n",
       "        vertical-align: middle;\n",
       "    }\n",
       "\n",
       "    .dataframe tbody tr th {\n",
       "        vertical-align: top;\n",
       "    }\n",
       "\n",
       "    .dataframe thead th {\n",
       "        text-align: right;\n",
       "    }\n",
       "</style>\n",
       "<table border=\"1\" class=\"dataframe\">\n",
       "  <thead>\n",
       "    <tr style=\"text-align: right;\">\n",
       "      <th></th>\n",
       "      <th>date</th>\n",
       "      <th>high</th>\n",
       "      <th>low</th>\n",
       "      <th>close</th>\n",
       "      <th>total_transaction</th>\n",
       "    </tr>\n",
       "  </thead>\n",
       "  <tbody>\n",
       "    <tr>\n",
       "      <th>2647</th>\n",
       "      <td>2010-04-15</td>\n",
       "      <td>2040.0</td>\n",
       "      <td>2000.0</td>\n",
       "      <td>2000.0</td>\n",
       "      <td>6935470.0</td>\n",
       "    </tr>\n",
       "    <tr>\n",
       "      <th>2648</th>\n",
       "      <td>2010-04-15</td>\n",
       "      <td>2040.0</td>\n",
       "      <td>2000.0</td>\n",
       "      <td>2000.0</td>\n",
       "      <td>6935470.0</td>\n",
       "    </tr>\n",
       "    <tr>\n",
       "      <th>2646</th>\n",
       "      <td>2010-04-15</td>\n",
       "      <td>2040.0</td>\n",
       "      <td>2000.0</td>\n",
       "      <td>2000.0</td>\n",
       "      <td>6935470.0</td>\n",
       "    </tr>\n",
       "    <tr>\n",
       "      <th>2645</th>\n",
       "      <td>2010-04-19</td>\n",
       "      <td>2039.0</td>\n",
       "      <td>2000.0</td>\n",
       "      <td>2001.0</td>\n",
       "      <td>3549542.0</td>\n",
       "    </tr>\n",
       "    <tr>\n",
       "      <th>2644</th>\n",
       "      <td>2010-04-20</td>\n",
       "      <td>1975.0</td>\n",
       "      <td>1945.0</td>\n",
       "      <td>1945.0</td>\n",
       "      <td>2369304.0</td>\n",
       "    </tr>\n",
       "  </tbody>\n",
       "</table>\n",
       "</div>"
      ],
      "text/plain": [
       "           date    high     low   close total_transaction\n",
       "2647 2010-04-15  2040.0  2000.0  2000.0         6935470.0\n",
       "2648 2010-04-15  2040.0  2000.0  2000.0         6935470.0\n",
       "2646 2010-04-15  2040.0  2000.0  2000.0         6935470.0\n",
       "2645 2010-04-19  2039.0  2000.0  2001.0         3549542.0\n",
       "2644 2010-04-20  1975.0  1945.0  1945.0         2369304.0"
      ]
     },
     "execution_count": 15,
     "metadata": {},
     "output_type": "execute_result"
    }
   ],
   "source": [
    "filtered_df.head()"
   ]
  },
  {
   "cell_type": "code",
   "execution_count": 16,
   "id": "3a6a13e7",
   "metadata": {},
   "outputs": [
    {
     "data": {
      "text/plain": [
       "(3325, 5)"
      ]
     },
     "execution_count": 16,
     "metadata": {},
     "output_type": "execute_result"
    }
   ],
   "source": [
    "filtered_df.shape"
   ]
  },
  {
   "cell_type": "code",
   "execution_count": 17,
   "id": "bddb7cb1",
   "metadata": {},
   "outputs": [
    {
     "name": "stdout",
     "output_type": "stream",
     "text": [
      "<class 'pandas.core.frame.DataFrame'>\n",
      "Index: 3325 entries, 2647 to 2649\n",
      "Data columns (total 5 columns):\n",
      " #   Column             Non-Null Count  Dtype         \n",
      "---  ------             --------------  -----         \n",
      " 0   date               3325 non-null   datetime64[ns]\n",
      " 1   high               3325 non-null   float64       \n",
      " 2   low                3325 non-null   float64       \n",
      " 3   close              3325 non-null   float64       \n",
      " 4   total_transaction  3325 non-null   object        \n",
      "dtypes: datetime64[ns](1), float64(3), object(1)\n",
      "memory usage: 155.9+ KB\n"
     ]
    }
   ],
   "source": [
    "filtered_df.info()"
   ]
  },
  {
   "cell_type": "code",
   "execution_count": 18,
   "id": "88936b0a",
   "metadata": {},
   "outputs": [
    {
     "name": "stdout",
     "output_type": "stream",
     "text": [
      "<class 'pandas.core.frame.DataFrame'>\n",
      "Index: 3325 entries, 2647 to 2649\n",
      "Data columns (total 5 columns):\n",
      " #   Column             Non-Null Count  Dtype         \n",
      "---  ------             --------------  -----         \n",
      " 0   date               3325 non-null   datetime64[ns]\n",
      " 1   high               3325 non-null   float64       \n",
      " 2   low                3325 non-null   float64       \n",
      " 3   close              3325 non-null   float64       \n",
      " 4   total_transaction  3325 non-null   object        \n",
      "dtypes: datetime64[ns](1), float64(3), object(1)\n",
      "memory usage: 155.9+ KB\n",
      "date                 0\n",
      "high                 0\n",
      "low                  0\n",
      "close                0\n",
      "total_transaction    0\n",
      "dtype: int64\n"
     ]
    }
   ],
   "source": [
    "filtered_df['total_transaction']= filtered_df['total_transaction'].replace(\",\", \"\", regex=True)\n",
    "filtered_df.info()\n",
    "print(filtered_df.isna().sum())"
   ]
  },
  {
   "cell_type": "code",
   "execution_count": 19,
   "id": "06cc6764",
   "metadata": {},
   "outputs": [
    {
     "data": {
      "text/plain": [
       "np.int64(3)"
      ]
     },
     "execution_count": 19,
     "metadata": {},
     "output_type": "execute_result"
    }
   ],
   "source": [
    "filtered_df.duplicated().sum()"
   ]
  },
  {
   "cell_type": "code",
   "execution_count": 20,
   "id": "6230efdb",
   "metadata": {},
   "outputs": [
    {
     "data": {
      "text/plain": [
       "np.int64(0)"
      ]
     },
     "execution_count": 20,
     "metadata": {},
     "output_type": "execute_result"
    }
   ],
   "source": [
    "filtered_df.drop_duplicates(keep='first', inplace=True)\n",
    "filtered_df.duplicated().sum()"
   ]
  },
  {
   "cell_type": "code",
   "execution_count": 21,
   "id": "497216b2",
   "metadata": {},
   "outputs": [
    {
     "data": {
      "text/html": [
       "<div>\n",
       "<style scoped>\n",
       "    .dataframe tbody tr th:only-of-type {\n",
       "        vertical-align: middle;\n",
       "    }\n",
       "\n",
       "    .dataframe tbody tr th {\n",
       "        vertical-align: top;\n",
       "    }\n",
       "\n",
       "    .dataframe thead th {\n",
       "        text-align: right;\n",
       "    }\n",
       "</style>\n",
       "<table border=\"1\" class=\"dataframe\">\n",
       "  <thead>\n",
       "    <tr style=\"text-align: right;\">\n",
       "      <th></th>\n",
       "      <th>date</th>\n",
       "      <th>high</th>\n",
       "      <th>low</th>\n",
       "      <th>close</th>\n",
       "      <th>total_transaction</th>\n",
       "    </tr>\n",
       "  </thead>\n",
       "  <tbody>\n",
       "    <tr>\n",
       "      <th>2647</th>\n",
       "      <td>2010-04-15</td>\n",
       "      <td>2040.0</td>\n",
       "      <td>2000.0</td>\n",
       "      <td>2000.0</td>\n",
       "      <td>6935470.0</td>\n",
       "    </tr>\n",
       "    <tr>\n",
       "      <th>2645</th>\n",
       "      <td>2010-04-19</td>\n",
       "      <td>2039.0</td>\n",
       "      <td>2000.0</td>\n",
       "      <td>2001.0</td>\n",
       "      <td>3549542.0</td>\n",
       "    </tr>\n",
       "    <tr>\n",
       "      <th>2644</th>\n",
       "      <td>2010-04-20</td>\n",
       "      <td>1975.0</td>\n",
       "      <td>1945.0</td>\n",
       "      <td>1945.0</td>\n",
       "      <td>2369304.0</td>\n",
       "    </tr>\n",
       "    <tr>\n",
       "      <th>2643</th>\n",
       "      <td>2010-04-21</td>\n",
       "      <td>1908.0</td>\n",
       "      <td>1800.0</td>\n",
       "      <td>1810.0</td>\n",
       "      <td>3531917.0</td>\n",
       "    </tr>\n",
       "    <tr>\n",
       "      <th>2642</th>\n",
       "      <td>2010-04-22</td>\n",
       "      <td>1831.0</td>\n",
       "      <td>1775.0</td>\n",
       "      <td>1831.0</td>\n",
       "      <td>2156607.0</td>\n",
       "    </tr>\n",
       "  </tbody>\n",
       "</table>\n",
       "</div>"
      ],
      "text/plain": [
       "           date    high     low   close total_transaction\n",
       "2647 2010-04-15  2040.0  2000.0  2000.0         6935470.0\n",
       "2645 2010-04-19  2039.0  2000.0  2001.0         3549542.0\n",
       "2644 2010-04-20  1975.0  1945.0  1945.0         2369304.0\n",
       "2643 2010-04-21  1908.0  1800.0  1810.0         3531917.0\n",
       "2642 2010-04-22  1831.0  1775.0  1831.0         2156607.0"
      ]
     },
     "execution_count": 21,
     "metadata": {},
     "output_type": "execute_result"
    }
   ],
   "source": [
    "filtered_df.head()"
   ]
  },
  {
   "cell_type": "code",
   "execution_count": 22,
   "id": "cd108201",
   "metadata": {},
   "outputs": [
    {
     "data": {
      "text/plain": [
       "date                 0\n",
       "high                 0\n",
       "low                  0\n",
       "close                0\n",
       "total_transaction    0\n",
       "dtype: int64"
      ]
     },
     "execution_count": 22,
     "metadata": {},
     "output_type": "execute_result"
    }
   ],
   "source": [
    "filtered_df.isna().sum()"
   ]
  },
  {
   "cell_type": "code",
   "execution_count": 23,
   "id": "c9c7d007",
   "metadata": {},
   "outputs": [
    {
     "data": {
      "image/png": "[encoded data removed]",
      "text/plain": [
       "<Figure size 1600x800 with 1 Axes>"
      ]
     },
     "metadata": {},
     "output_type": "display_data"
    }
   ],
   "source": [
    "plt.figure(figsize=(16,8))\n",
    "plt.plot(filtered_df['date'], filtered_df['close'], label=\"Closing Price History\")\n",
    "plt.show()"
   ]
  },
  {
   "cell_type": "code",
   "execution_count": 24,
   "id": "b0af3e15",
   "metadata": {},
   "outputs": [
    {
     "name": "stdout",
     "output_type": "stream",
     "text": [
      "           date    high     low  close total_transaction\n",
      "1706 2014-06-17  2413.0  2310.0    0.0        15732160.0\n"
     ]
    }
   ],
   "source": [
    "#we can see that on date '2014-06-17', so replacing the closing value 0 by using method (high + low)/2\n",
    "\n",
    "# filtered_df[filtered_df['date']== '2014-06-17'] \n",
    "\n",
    "print(filtered_df[filtered_df['close']== 0])\n",
    "\n",
    "# filtered_df.loc[filtered_df['close'] == 0]"
   ]
  },
  {
   "cell_type": "code",
   "execution_count": 25,
   "id": "8b275b4b",
   "metadata": {},
   "outputs": [],
   "source": [
    "# #Feature Engineering\n",
    "# # Price change is the total change is closing price of today form yesterday\n",
    "# filtered_df['price_change']= filtered_df['close']-filtered_df['close'].shift(1)\n",
    "\n",
    "# # daily change is the difference between high and low of that day\n",
    "# filtered_df['daily_change']= filtered_df['high']-filtered_df['low']\n",
    "\n",
    "# # daily return is the percentage of change is closing price compared to yesterday\n",
    "# filtered_df['daily_return']= (filtered_df['price_change'] / filtered_df['close'].shift(1)) * 100 \n",
    "# filtered_df['daily_return']= filtered_df['daily_return'].apply(lambda x: round(x, 2))\n",
    "\n",
    "# filtered_df.head()"
   ]
  },
  {
   "cell_type": "code",
   "execution_count": 26,
   "id": "d6ee2ee1",
   "metadata": {},
   "outputs": [
    {
     "data": {
      "text/plain": [
       "date                 0\n",
       "high                 0\n",
       "low                  0\n",
       "close                0\n",
       "total_transaction    0\n",
       "dtype: int64"
      ]
     },
     "execution_count": 26,
     "metadata": {},
     "output_type": "execute_result"
    }
   ],
   "source": [
    "filtered_df.isna().sum()"
   ]
  },
  {
   "cell_type": "code",
   "execution_count": 27,
   "id": "cce0ecd6",
   "metadata": {},
   "outputs": [
    {
     "data": {
      "text/plain": [
       "date                 0\n",
       "high                 0\n",
       "low                  0\n",
       "close                0\n",
       "total_transaction    0\n",
       "dtype: int64"
      ]
     },
     "execution_count": 27,
     "metadata": {},
     "output_type": "execute_result"
    }
   ],
   "source": [
    "filtered_df.dropna(inplace=True)\n",
    "filtered_df.isna().sum()"
   ]
  },
  {
   "cell_type": "code",
   "execution_count": 28,
   "id": "a57533f5",
   "metadata": {},
   "outputs": [
    {
     "data": {
      "image/png": "[encoded data removed]",
      "text/plain": [
       "<Figure size 1600x800 with 1 Axes>"
      ]
     },
     "metadata": {},
     "output_type": "display_data"
    }
   ],
   "source": [
    "plt.figure(figsize=(16,8))\n",
    "plt.plot(filtered_df['date'], filtered_df['close'], label=\"Closing Price History\")\n",
    "plt.show()"
   ]
  },
  {
   "cell_type": "code",
   "execution_count": 29,
   "id": "8616c731",
   "metadata": {},
   "outputs": [
    {
     "data": {
      "text/html": [
       "<div>\n",
       "<style scoped>\n",
       "    .dataframe tbody tr th:only-of-type {\n",
       "        vertical-align: middle;\n",
       "    }\n",
       "\n",
       "    .dataframe tbody tr th {\n",
       "        vertical-align: top;\n",
       "    }\n",
       "\n",
       "    .dataframe thead th {\n",
       "        text-align: right;\n",
       "    }\n",
       "</style>\n",
       "<table border=\"1\" class=\"dataframe\">\n",
       "  <thead>\n",
       "    <tr style=\"text-align: right;\">\n",
       "      <th></th>\n",
       "      <th>date</th>\n",
       "      <th>high</th>\n",
       "      <th>low</th>\n",
       "      <th>close</th>\n",
       "      <th>total_transaction</th>\n",
       "    </tr>\n",
       "  </thead>\n",
       "  <tbody>\n",
       "    <tr>\n",
       "      <th>1706</th>\n",
       "      <td>2014-06-17</td>\n",
       "      <td>2413.0</td>\n",
       "      <td>2310.0</td>\n",
       "      <td>0.0</td>\n",
       "      <td>15732160.0</td>\n",
       "    </tr>\n",
       "  </tbody>\n",
       "</table>\n",
       "</div>"
      ],
      "text/plain": [
       "           date    high     low  close total_transaction\n",
       "1706 2014-06-17  2413.0  2310.0    0.0        15732160.0"
      ]
     },
     "execution_count": 29,
     "metadata": {},
     "output_type": "execute_result"
    }
   ],
   "source": [
    "filtered_df[filtered_df['close'] == min(filtered_df['close'])]"
   ]
  },
  {
   "cell_type": "code",
   "execution_count": 30,
   "id": "e3e27000",
   "metadata": {},
   "outputs": [
    {
     "data": {
      "text/html": [
       "<div>\n",
       "<style scoped>\n",
       "    .dataframe tbody tr th:only-of-type {\n",
       "        vertical-align: middle;\n",
       "    }\n",
       "\n",
       "    .dataframe tbody tr th {\n",
       "        vertical-align: top;\n",
       "    }\n",
       "\n",
       "    .dataframe thead th {\n",
       "        text-align: right;\n",
       "    }\n",
       "</style>\n",
       "<table border=\"1\" class=\"dataframe\">\n",
       "  <thead>\n",
       "    <tr style=\"text-align: right;\">\n",
       "      <th></th>\n",
       "      <th>date</th>\n",
       "      <th>high</th>\n",
       "      <th>low</th>\n",
       "      <th>close</th>\n",
       "      <th>total_transaction</th>\n",
       "    </tr>\n",
       "  </thead>\n",
       "  <tbody>\n",
       "    <tr>\n",
       "      <th>1707</th>\n",
       "      <td>2014-06-16</td>\n",
       "      <td>2380.0</td>\n",
       "      <td>2312.0</td>\n",
       "      <td>2363.0</td>\n",
       "      <td>26233620.0</td>\n",
       "    </tr>\n",
       "    <tr>\n",
       "      <th>1706</th>\n",
       "      <td>2014-06-17</td>\n",
       "      <td>2413.0</td>\n",
       "      <td>2310.0</td>\n",
       "      <td>0.0</td>\n",
       "      <td>15732160.0</td>\n",
       "    </tr>\n",
       "    <tr>\n",
       "      <th>1705</th>\n",
       "      <td>2014-06-18</td>\n",
       "      <td>2370.0</td>\n",
       "      <td>2335.0</td>\n",
       "      <td>2360.0</td>\n",
       "      <td>5454785.0</td>\n",
       "    </tr>\n",
       "  </tbody>\n",
       "</table>\n",
       "</div>"
      ],
      "text/plain": [
       "           date    high     low   close total_transaction\n",
       "1707 2014-06-16  2380.0  2312.0  2363.0        26233620.0\n",
       "1706 2014-06-17  2413.0  2310.0     0.0        15732160.0\n",
       "1705 2014-06-18  2370.0  2335.0  2360.0         5454785.0"
      ]
     },
     "execution_count": 30,
     "metadata": {},
     "output_type": "execute_result"
    }
   ],
   "source": [
    "filtered_df[(filtered_df['date']>='2014-06-16') & (filtered_df['date']<='2014-06-18')]"
   ]
  },
  {
   "cell_type": "code",
   "execution_count": 31,
   "id": "334fedc9",
   "metadata": {},
   "outputs": [
    {
     "name": "stderr",
     "output_type": "stream",
     "text": [
      "/var/folders/_0/nzc90x3n5rq0qtcpn10r9hkm0000gn/T/ipykernel_16951/1402038004.py:3: FutureWarning: The 'method' keyword in Series.replace is deprecated and will be removed in a future version.\n",
      "  filtered_df['close']= filtered_df['close'].replace(0, method='ffill')\n"
     ]
    }
   ],
   "source": [
    "#we can see that on date '2014-06-17', so replacing the closing value 0 by using forward fill method\n",
    "\n",
    "filtered_df['close']= filtered_df['close'].replace(0, method='ffill')"
   ]
  },
  {
   "cell_type": "code",
   "execution_count": 32,
   "id": "3ac9069d",
   "metadata": {},
   "outputs": [
    {
     "name": "stdout",
     "output_type": "stream",
     "text": [
      "Empty DataFrame\n",
      "Columns: [date, high, low, close, total_transaction]\n",
      "Index: []\n"
     ]
    }
   ],
   "source": [
    "\n",
    "# filtered_df[filtered_df['date']== '2014-06-17'] \n",
    "\n",
    "print(filtered_df[filtered_df['close']== 0])\n"
   ]
  },
  {
   "cell_type": "code",
   "execution_count": 33,
   "id": "b93e7d38",
   "metadata": {},
   "outputs": [
    {
     "data": {
      "text/html": [
       "<div>\n",
       "<style scoped>\n",
       "    .dataframe tbody tr th:only-of-type {\n",
       "        vertical-align: middle;\n",
       "    }\n",
       "\n",
       "    .dataframe tbody tr th {\n",
       "        vertical-align: top;\n",
       "    }\n",
       "\n",
       "    .dataframe thead th {\n",
       "        text-align: right;\n",
       "    }\n",
       "</style>\n",
       "<table border=\"1\" class=\"dataframe\">\n",
       "  <thead>\n",
       "    <tr style=\"text-align: right;\">\n",
       "      <th></th>\n",
       "      <th>date</th>\n",
       "      <th>high</th>\n",
       "      <th>low</th>\n",
       "      <th>close</th>\n",
       "      <th>total_transaction</th>\n",
       "      <th>price_change</th>\n",
       "      <th>daily_change</th>\n",
       "      <th>daily_return</th>\n",
       "    </tr>\n",
       "  </thead>\n",
       "  <tbody>\n",
       "    <tr>\n",
       "      <th>2647</th>\n",
       "      <td>2010-04-15</td>\n",
       "      <td>2040.0</td>\n",
       "      <td>2000.0</td>\n",
       "      <td>2000.0</td>\n",
       "      <td>6935470.0</td>\n",
       "      <td>NaN</td>\n",
       "      <td>40.0</td>\n",
       "      <td>NaN</td>\n",
       "    </tr>\n",
       "    <tr>\n",
       "      <th>2645</th>\n",
       "      <td>2010-04-19</td>\n",
       "      <td>2039.0</td>\n",
       "      <td>2000.0</td>\n",
       "      <td>2001.0</td>\n",
       "      <td>3549542.0</td>\n",
       "      <td>1.0</td>\n",
       "      <td>39.0</td>\n",
       "      <td>0.05</td>\n",
       "    </tr>\n",
       "    <tr>\n",
       "      <th>2644</th>\n",
       "      <td>2010-04-20</td>\n",
       "      <td>1975.0</td>\n",
       "      <td>1945.0</td>\n",
       "      <td>1945.0</td>\n",
       "      <td>2369304.0</td>\n",
       "      <td>-56.0</td>\n",
       "      <td>30.0</td>\n",
       "      <td>-2.80</td>\n",
       "    </tr>\n",
       "    <tr>\n",
       "      <th>2643</th>\n",
       "      <td>2010-04-21</td>\n",
       "      <td>1908.0</td>\n",
       "      <td>1800.0</td>\n",
       "      <td>1810.0</td>\n",
       "      <td>3531917.0</td>\n",
       "      <td>-135.0</td>\n",
       "      <td>108.0</td>\n",
       "      <td>-6.94</td>\n",
       "    </tr>\n",
       "    <tr>\n",
       "      <th>2642</th>\n",
       "      <td>2010-04-22</td>\n",
       "      <td>1831.0</td>\n",
       "      <td>1775.0</td>\n",
       "      <td>1831.0</td>\n",
       "      <td>2156607.0</td>\n",
       "      <td>21.0</td>\n",
       "      <td>56.0</td>\n",
       "      <td>1.16</td>\n",
       "    </tr>\n",
       "  </tbody>\n",
       "</table>\n",
       "</div>"
      ],
      "text/plain": [
       "           date    high     low   close total_transaction  price_change  \\\n",
       "2647 2010-04-15  2040.0  2000.0  2000.0         6935470.0           NaN   \n",
       "2645 2010-04-19  2039.0  2000.0  2001.0         3549542.0           1.0   \n",
       "2644 2010-04-20  1975.0  1945.0  1945.0         2369304.0         -56.0   \n",
       "2643 2010-04-21  1908.0  1800.0  1810.0         3531917.0        -135.0   \n",
       "2642 2010-04-22  1831.0  1775.0  1831.0         2156607.0          21.0   \n",
       "\n",
       "      daily_change  daily_return  \n",
       "2647          40.0           NaN  \n",
       "2645          39.0          0.05  \n",
       "2644          30.0         -2.80  \n",
       "2643         108.0         -6.94  \n",
       "2642          56.0          1.16  "
      ]
     },
     "execution_count": 33,
     "metadata": {},
     "output_type": "execute_result"
    }
   ],
   "source": [
    "#Feature Engineering\n",
    "# Price change is the total change is closing price of today form yesterday\n",
    "filtered_df['price_change']= filtered_df['close']-filtered_df['close'].shift(1)\n",
    "\n",
    "# daily change is the difference between high and low of that day\n",
    "filtered_df['daily_change']= filtered_df['high']-filtered_df['low']\n",
    "\n",
    "# daily return is the percentage of change is closing price compared to yesterday\n",
    "filtered_df['daily_return']= (filtered_df['price_change'] / filtered_df['close'].shift(1)) * 100 \n",
    "filtered_df['daily_return']= filtered_df['daily_return'].apply(lambda x: round(x, 2))\n",
    "\n",
    "filtered_df.head()"
   ]
  },
  {
   "cell_type": "code",
   "execution_count": 34,
   "id": "21158370",
   "metadata": {},
   "outputs": [
    {
     "data": {
      "image/png": "[encoded data removed]",
      "text/plain": [
       "<Figure size 1600x800 with 1 Axes>"
      ]
     },
     "metadata": {},
     "output_type": "display_data"
    }
   ],
   "source": [
    "plt.figure(figsize=(16, 8))\n",
    "plt.plot(filtered_df['date'], filtered_df['price_change'])\n",
    "plt.show()"
   ]
  },
  {
   "cell_type": "code",
   "execution_count": 35,
   "id": "6254d23f",
   "metadata": {},
   "outputs": [
    {
     "data": {
      "text/html": [
       "<div>\n",
       "<style scoped>\n",
       "    .dataframe tbody tr th:only-of-type {\n",
       "        vertical-align: middle;\n",
       "    }\n",
       "\n",
       "    .dataframe tbody tr th {\n",
       "        vertical-align: top;\n",
       "    }\n",
       "\n",
       "    .dataframe thead th {\n",
       "        text-align: right;\n",
       "    }\n",
       "</style>\n",
       "<table border=\"1\" class=\"dataframe\">\n",
       "  <thead>\n",
       "    <tr style=\"text-align: right;\">\n",
       "      <th></th>\n",
       "      <th>date</th>\n",
       "      <th>high</th>\n",
       "      <th>low</th>\n",
       "      <th>close</th>\n",
       "      <th>total_transaction</th>\n",
       "      <th>price_change</th>\n",
       "      <th>daily_change</th>\n",
       "      <th>daily_return</th>\n",
       "      <th>year</th>\n",
       "      <th>month</th>\n",
       "      <th>day-of-week</th>\n",
       "      <th>is-weekend</th>\n",
       "    </tr>\n",
       "  </thead>\n",
       "  <tbody>\n",
       "    <tr>\n",
       "      <th>2647</th>\n",
       "      <td>2010-04-15</td>\n",
       "      <td>2040.0</td>\n",
       "      <td>2000.0</td>\n",
       "      <td>2000.0</td>\n",
       "      <td>6935470.0</td>\n",
       "      <td>NaN</td>\n",
       "      <td>40.0</td>\n",
       "      <td>NaN</td>\n",
       "      <td>2010</td>\n",
       "      <td>4</td>\n",
       "      <td>3</td>\n",
       "      <td>0</td>\n",
       "    </tr>\n",
       "    <tr>\n",
       "      <th>2645</th>\n",
       "      <td>2010-04-19</td>\n",
       "      <td>2039.0</td>\n",
       "      <td>2000.0</td>\n",
       "      <td>2001.0</td>\n",
       "      <td>3549542.0</td>\n",
       "      <td>1.0</td>\n",
       "      <td>39.0</td>\n",
       "      <td>0.05</td>\n",
       "      <td>2010</td>\n",
       "      <td>4</td>\n",
       "      <td>0</td>\n",
       "      <td>0</td>\n",
       "    </tr>\n",
       "    <tr>\n",
       "      <th>2644</th>\n",
       "      <td>2010-04-20</td>\n",
       "      <td>1975.0</td>\n",
       "      <td>1945.0</td>\n",
       "      <td>1945.0</td>\n",
       "      <td>2369304.0</td>\n",
       "      <td>-56.0</td>\n",
       "      <td>30.0</td>\n",
       "      <td>-2.80</td>\n",
       "      <td>2010</td>\n",
       "      <td>4</td>\n",
       "      <td>1</td>\n",
       "      <td>0</td>\n",
       "    </tr>\n",
       "    <tr>\n",
       "      <th>2643</th>\n",
       "      <td>2010-04-21</td>\n",
       "      <td>1908.0</td>\n",
       "      <td>1800.0</td>\n",
       "      <td>1810.0</td>\n",
       "      <td>3531917.0</td>\n",
       "      <td>-135.0</td>\n",
       "      <td>108.0</td>\n",
       "      <td>-6.94</td>\n",
       "      <td>2010</td>\n",
       "      <td>4</td>\n",
       "      <td>2</td>\n",
       "      <td>0</td>\n",
       "    </tr>\n",
       "    <tr>\n",
       "      <th>2642</th>\n",
       "      <td>2010-04-22</td>\n",
       "      <td>1831.0</td>\n",
       "      <td>1775.0</td>\n",
       "      <td>1831.0</td>\n",
       "      <td>2156607.0</td>\n",
       "      <td>21.0</td>\n",
       "      <td>56.0</td>\n",
       "      <td>1.16</td>\n",
       "      <td>2010</td>\n",
       "      <td>4</td>\n",
       "      <td>3</td>\n",
       "      <td>0</td>\n",
       "    </tr>\n",
       "  </tbody>\n",
       "</table>\n",
       "</div>"
      ],
      "text/plain": [
       "           date    high     low   close total_transaction  price_change  \\\n",
       "2647 2010-04-15  2040.0  2000.0  2000.0         6935470.0           NaN   \n",
       "2645 2010-04-19  2039.0  2000.0  2001.0         3549542.0           1.0   \n",
       "2644 2010-04-20  1975.0  1945.0  1945.0         2369304.0         -56.0   \n",
       "2643 2010-04-21  1908.0  1800.0  1810.0         3531917.0        -135.0   \n",
       "2642 2010-04-22  1831.0  1775.0  1831.0         2156607.0          21.0   \n",
       "\n",
       "      daily_change  daily_return  year  month  day-of-week  is-weekend  \n",
       "2647          40.0           NaN  2010      4            3           0  \n",
       "2645          39.0          0.05  2010      4            0           0  \n",
       "2644          30.0         -2.80  2010      4            1           0  \n",
       "2643         108.0         -6.94  2010      4            2           0  \n",
       "2642          56.0          1.16  2010      4            3           0  "
      ]
     },
     "execution_count": 35,
     "metadata": {},
     "output_type": "execute_result"
    }
   ],
   "source": [
    "#seperating date into year, month, weekday\n",
    "filtered_df['year']= filtered_df['date'].dt.year\n",
    "filtered_df['month']= filtered_df['date'].dt.month\n",
    "filtered_df['day-of-week']= filtered_df['date'].dt.dayofweek # 0 for monday 6 for sunday\n",
    "filtered_df['is-weekend']= filtered_df['day-of-week'].apply(lambda x: 0 if x!=6 else 1) #in case of nepal only saturday is considered to be public holiday\n",
    "\n",
    "\n",
    "filtered_df.head()"
   ]
  },
  {
   "cell_type": "code",
   "execution_count": 36,
   "id": "66859a72",
   "metadata": {},
   "outputs": [],
   "source": [
    "#setting up some technical indicators for stock market  \n",
    "def compute_rsi(data, window=14):\n",
    "    delta= data.diff(1)\n",
    "    \n",
    "    gain= delta.where(delta>0, 0) #keeping inly positive gains\n",
    "    loss= delta.where(delta<0, 0) #keeping only negative losses\n",
    "    \n",
    "    # Use Exponential Moving Average (EMA) for smoothing\n",
    "    avg_gain= gain.ewm(span=window, adjust=False).mean()\n",
    "    avg_loss = loss.ewm(span=window, adjust=False).mean()\n",
    "    \n",
    "     # Compute Relative Strength (RS) and RSI\n",
    "    rs = avg_gain / avg_loss\n",
    "    rsi = 100 - (100 / (1 + rs))\n",
    "    return rsi\n",
    "    "
   ]
  },
  {
   "cell_type": "code",
   "execution_count": 37,
   "id": "6fa5e206",
   "metadata": {},
   "outputs": [
    {
     "data": {
      "text/html": [
       "<div>\n",
       "<style scoped>\n",
       "    .dataframe tbody tr th:only-of-type {\n",
       "        vertical-align: middle;\n",
       "    }\n",
       "\n",
       "    .dataframe tbody tr th {\n",
       "        vertical-align: top;\n",
       "    }\n",
       "\n",
       "    .dataframe thead th {\n",
       "        text-align: right;\n",
       "    }\n",
       "</style>\n",
       "<table border=\"1\" class=\"dataframe\">\n",
       "  <thead>\n",
       "    <tr style=\"text-align: right;\">\n",
       "      <th></th>\n",
       "      <th>date</th>\n",
       "      <th>high</th>\n",
       "      <th>low</th>\n",
       "      <th>close</th>\n",
       "      <th>total_transaction</th>\n",
       "      <th>price_change</th>\n",
       "      <th>daily_change</th>\n",
       "      <th>daily_return</th>\n",
       "      <th>year</th>\n",
       "      <th>month</th>\n",
       "      <th>day-of-week</th>\n",
       "      <th>is-weekend</th>\n",
       "      <th>SMA-10</th>\n",
       "      <th>SMA-50</th>\n",
       "      <th>EMA_10</th>\n",
       "      <th>EMA_50</th>\n",
       "      <th>RSI_14</th>\n",
       "      <th>close_prev_day</th>\n",
       "    </tr>\n",
       "  </thead>\n",
       "  <tbody>\n",
       "    <tr>\n",
       "      <th>2647</th>\n",
       "      <td>2010-04-15</td>\n",
       "      <td>2040.0</td>\n",
       "      <td>2000.0</td>\n",
       "      <td>2000.0</td>\n",
       "      <td>6935470.0</td>\n",
       "      <td>NaN</td>\n",
       "      <td>40.0</td>\n",
       "      <td>NaN</td>\n",
       "      <td>2010</td>\n",
       "      <td>4</td>\n",
       "      <td>3</td>\n",
       "      <td>0</td>\n",
       "      <td>NaN</td>\n",
       "      <td>NaN</td>\n",
       "      <td>2000.000000</td>\n",
       "      <td>2000.000000</td>\n",
       "      <td>NaN</td>\n",
       "      <td>NaN</td>\n",
       "    </tr>\n",
       "    <tr>\n",
       "      <th>2645</th>\n",
       "      <td>2010-04-19</td>\n",
       "      <td>2039.0</td>\n",
       "      <td>2000.0</td>\n",
       "      <td>2001.0</td>\n",
       "      <td>3549542.0</td>\n",
       "      <td>1.0</td>\n",
       "      <td>39.0</td>\n",
       "      <td>0.05</td>\n",
       "      <td>2010</td>\n",
       "      <td>4</td>\n",
       "      <td>0</td>\n",
       "      <td>0</td>\n",
       "      <td>NaN</td>\n",
       "      <td>NaN</td>\n",
       "      <td>2000.181818</td>\n",
       "      <td>2000.039216</td>\n",
       "      <td>100.000000</td>\n",
       "      <td>2000.0</td>\n",
       "    </tr>\n",
       "    <tr>\n",
       "      <th>2644</th>\n",
       "      <td>2010-04-20</td>\n",
       "      <td>1975.0</td>\n",
       "      <td>1945.0</td>\n",
       "      <td>1945.0</td>\n",
       "      <td>2369304.0</td>\n",
       "      <td>-56.0</td>\n",
       "      <td>30.0</td>\n",
       "      <td>-2.80</td>\n",
       "      <td>2010</td>\n",
       "      <td>4</td>\n",
       "      <td>1</td>\n",
       "      <td>0</td>\n",
       "      <td>NaN</td>\n",
       "      <td>NaN</td>\n",
       "      <td>1990.148760</td>\n",
       "      <td>1997.880815</td>\n",
       "      <td>-1.571947</td>\n",
       "      <td>2001.0</td>\n",
       "    </tr>\n",
       "    <tr>\n",
       "      <th>2643</th>\n",
       "      <td>2010-04-21</td>\n",
       "      <td>1908.0</td>\n",
       "      <td>1800.0</td>\n",
       "      <td>1810.0</td>\n",
       "      <td>3531917.0</td>\n",
       "      <td>-135.0</td>\n",
       "      <td>108.0</td>\n",
       "      <td>-6.94</td>\n",
       "      <td>2010</td>\n",
       "      <td>4</td>\n",
       "      <td>2</td>\n",
       "      <td>0</td>\n",
       "      <td>NaN</td>\n",
       "      <td>NaN</td>\n",
       "      <td>1957.394440</td>\n",
       "      <td>1990.512940</td>\n",
       "      <td>-0.410932</td>\n",
       "      <td>1945.0</td>\n",
       "    </tr>\n",
       "    <tr>\n",
       "      <th>2642</th>\n",
       "      <td>2010-04-22</td>\n",
       "      <td>1831.0</td>\n",
       "      <td>1775.0</td>\n",
       "      <td>1831.0</td>\n",
       "      <td>2156607.0</td>\n",
       "      <td>21.0</td>\n",
       "      <td>56.0</td>\n",
       "      <td>1.16</td>\n",
       "      <td>2010</td>\n",
       "      <td>4</td>\n",
       "      <td>3</td>\n",
       "      <td>0</td>\n",
       "      <td>NaN</td>\n",
       "      <td>NaN</td>\n",
       "      <td>1934.413633</td>\n",
       "      <td>1984.257531</td>\n",
       "      <td>-15.756324</td>\n",
       "      <td>1810.0</td>\n",
       "    </tr>\n",
       "  </tbody>\n",
       "</table>\n",
       "</div>"
      ],
      "text/plain": [
       "           date    high     low   close total_transaction  price_change  \\\n",
       "2647 2010-04-15  2040.0  2000.0  2000.0         6935470.0           NaN   \n",
       "2645 2010-04-19  2039.0  2000.0  2001.0         3549542.0           1.0   \n",
       "2644 2010-04-20  1975.0  1945.0  1945.0         2369304.0         -56.0   \n",
       "2643 2010-04-21  1908.0  1800.0  1810.0         3531917.0        -135.0   \n",
       "2642 2010-04-22  1831.0  1775.0  1831.0         2156607.0          21.0   \n",
       "\n",
       "      daily_change  daily_return  year  month  day-of-week  is-weekend  \\\n",
       "2647          40.0           NaN  2010      4            3           0   \n",
       "2645          39.0          0.05  2010      4            0           0   \n",
       "2644          30.0         -2.80  2010      4            1           0   \n",
       "2643         108.0         -6.94  2010      4            2           0   \n",
       "2642          56.0          1.16  2010      4            3           0   \n",
       "\n",
       "      SMA-10  SMA-50       EMA_10       EMA_50      RSI_14  close_prev_day  \n",
       "2647     NaN     NaN  2000.000000  2000.000000         NaN             NaN  \n",
       "2645     NaN     NaN  2000.181818  2000.039216  100.000000          2000.0  \n",
       "2644     NaN     NaN  1990.148760  1997.880815   -1.571947          2001.0  \n",
       "2643     NaN     NaN  1957.394440  1990.512940   -0.410932          1945.0  \n",
       "2642     NaN     NaN  1934.413633  1984.257531  -15.756324          1810.0  "
      ]
     },
     "execution_count": 37,
     "metadata": {},
     "output_type": "execute_result"
    }
   ],
   "source": [
    "filtered_df['SMA-10']= filtered_df['close'].rolling(window=10).mean() #average of 10 consecutive days\n",
    "filtered_df['SMA-50']= filtered_df['close'].rolling(window=50).mean() #average of 50 days\n",
    "\n",
    "filtered_df['EMA_10']= filtered_df['close'].ewm(span=10, adjust=False).mean()\n",
    "filtered_df['EMA_50']= filtered_df['close'].ewm(span=50, adjust=False).mean()\n",
    "\n",
    "filtered_df['RSI_14'] = compute_rsi(filtered_df['close'], window=14) \n",
    "\n",
    "filtered_df['close_prev_day'] = filtered_df['close'].shift(1)\n",
    "\n",
    "filtered_df.head()"
   ]
  },
  {
   "cell_type": "code",
   "execution_count": 38,
   "id": "5907991b",
   "metadata": {},
   "outputs": [
    {
     "data": {
      "text/plain": [
       "date                  0\n",
       "high                  0\n",
       "low                   0\n",
       "close                 0\n",
       "total_transaction     0\n",
       "price_change          1\n",
       "daily_change          0\n",
       "daily_return          1\n",
       "year                  0\n",
       "month                 0\n",
       "day-of-week           0\n",
       "is-weekend            0\n",
       "SMA-10                9\n",
       "SMA-50               49\n",
       "EMA_10                0\n",
       "EMA_50                0\n",
       "RSI_14                1\n",
       "close_prev_day        1\n",
       "dtype: int64"
      ]
     },
     "execution_count": 38,
     "metadata": {},
     "output_type": "execute_result"
    }
   ],
   "source": [
    "filtered_df.isna().sum()"
   ]
  },
  {
   "cell_type": "code",
   "execution_count": 39,
   "id": "28a82d3a",
   "metadata": {},
   "outputs": [
    {
     "data": {
      "text/html": [
       "<div>\n",
       "<style scoped>\n",
       "    .dataframe tbody tr th:only-of-type {\n",
       "        vertical-align: middle;\n",
       "    }\n",
       "\n",
       "    .dataframe tbody tr th {\n",
       "        vertical-align: top;\n",
       "    }\n",
       "\n",
       "    .dataframe thead th {\n",
       "        text-align: right;\n",
       "    }\n",
       "</style>\n",
       "<table border=\"1\" class=\"dataframe\">\n",
       "  <thead>\n",
       "    <tr style=\"text-align: right;\">\n",
       "      <th></th>\n",
       "      <th>date</th>\n",
       "      <th>high</th>\n",
       "      <th>low</th>\n",
       "      <th>close</th>\n",
       "      <th>total_transaction</th>\n",
       "      <th>price_change</th>\n",
       "      <th>daily_change</th>\n",
       "      <th>daily_return</th>\n",
       "      <th>year</th>\n",
       "      <th>month</th>\n",
       "      <th>day-of-week</th>\n",
       "      <th>is-weekend</th>\n",
       "      <th>SMA-10</th>\n",
       "      <th>SMA-50</th>\n",
       "      <th>EMA_10</th>\n",
       "      <th>EMA_50</th>\n",
       "      <th>RSI_14</th>\n",
       "      <th>close_prev_day</th>\n",
       "    </tr>\n",
       "  </thead>\n",
       "  <tbody>\n",
       "  </tbody>\n",
       "</table>\n",
       "</div>"
      ],
      "text/plain": [
       "Empty DataFrame\n",
       "Columns: [date, high, low, close, total_transaction, price_change, daily_change, daily_return, year, month, day-of-week, is-weekend, SMA-10, SMA-50, EMA_10, EMA_50, RSI_14, close_prev_day]\n",
       "Index: []"
      ]
     },
     "execution_count": 39,
     "metadata": {},
     "output_type": "execute_result"
    }
   ],
   "source": [
    "filtered_df[filtered_df['total_transaction'].isna()]"
   ]
  },
  {
   "cell_type": "code",
   "execution_count": 40,
   "id": "ad608236",
   "metadata": {},
   "outputs": [],
   "source": [
    "filtered_df.to_csv(\"../data/processed/filtered_stock_with_indicators.csv\", index=False)\n"
   ]
  }
 ],
 "metadata": {
  "kernelspec": {
   "display_name": "venvnabil",
   "language": "python",
   "name": "python3"
  },
  "language_info": {
   "codemirror_mode": {
    "name": "ipython",
    "version": 3
   },
   "file_extension": ".py",
   "mimetype": "text/x-python",
   "name": "python",
   "nbconvert_exporter": "python",
   "pygments_lexer": "ipython3",
   "version": "3.12.8"
  }
 },
 "nbformat": 4,
 "nbformat_minor": 5
}
